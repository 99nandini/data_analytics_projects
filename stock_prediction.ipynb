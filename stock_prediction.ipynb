{
  "nbformat": 4,
  "nbformat_minor": 0,
  "metadata": {
    "colab": {
      "provenance": [],
      "include_colab_link": true
    },
    "kernelspec": {
      "name": "python3",
      "display_name": "Python 3"
    },
    "language_info": {
      "name": "python"
    }
  },
  "cells": [
    {
      "cell_type": "markdown",
      "metadata": {
        "id": "view-in-github",
        "colab_type": "text"
      },
      "source": [
        "<a href=\"https://colab.research.google.com/github/99nandini/data_analytics_projects/blob/main/stock_prediction.ipynb\" target=\"_parent\"><img src=\"https://colab.research.google.com/assets/colab-badge.svg\" alt=\"Open In Colab\"/></a>"
      ]
    },
    {
      "cell_type": "code",
      "execution_count": null,
      "metadata": {
        "id": "sZ4bw-onivlM"
      },
      "outputs": [],
      "source": [
        "import pandas as pd\n",
        "from sklearn.svm import SVR\n",
        "import matplotlib.pyplot as plt\n",
        "import numpy as np"
      ]
    },
    {
      "cell_type": "code",
      "source": [],
      "metadata": {
        "id": "5OBuVifM2cQy"
      },
      "execution_count": null,
      "outputs": []
    },
    {
      "cell_type": "code",
      "source": [
        "# Code to read csv file into colaboratory:\n",
        "!pip install -U -q PyDrive\n",
        "from pydrive.auth import GoogleAuth\n",
        "from pydrive.drive import GoogleDrive\n",
        "from google.colab import auth\n",
        "from oauth2client.client import GoogleCredentials"
      ],
      "metadata": {
        "id": "vLN8FUBaiwQu"
      },
      "execution_count": null,
      "outputs": []
    },
    {
      "cell_type": "code",
      "source": [
        "auth.authenticate_user()\n",
        "gauth = GoogleAuth()\n",
        "gauth.credentials = GoogleCredentials.get_application_default()\n",
        "drive = GoogleDrive(gauth)"
      ],
      "metadata": {
        "id": "RT2BxI7StZZm"
      },
      "execution_count": null,
      "outputs": []
    },
    {
      "cell_type": "code",
      "source": [
        "downloaded = drive.CreateFile({'id':'1Sh4I89Luf1z_4w4XdE7HfK9jPybwpQBQ'}) # replace the id with id of file you want to access\n",
        "downloaded.GetContentFile('google.csv')\n"
      ],
      "metadata": {
        "id": "0ZeAyjhsuFmZ"
      },
      "execution_count": null,
      "outputs": []
    },
    {
      "cell_type": "code",
      "source": [
        "dataset=pd.read_csv('google.csv')\n",
        "dataset.head()"
      ],
      "metadata": {
        "id": "CMa3UhQLvLHq"
      },
      "execution_count": null,
      "outputs": []
    },
    {
      "cell_type": "code",
      "source": [
        "actual_price=dataset.tail(1)\n",
        "actual_price"
      ],
      "metadata": {
        "colab": {
          "base_uri": "https://localhost:8080/",
          "height": 81
        },
        "id": "V8v7F7ALv0JS",
        "outputId": "732c9631-4c7c-44ce-bbce-04356f70eaf5"
      },
      "execution_count": null,
      "outputs": [
        {
          "output_type": "execute_result",
          "data": {
            "text/plain": [
              "            Date   Open   High      Low  Close  Volume  OpenInt\n",
              "1564  2017-11-10  56.96  56.96  56.3909   56.4   29233        0"
            ],
            "text/html": [
              "\n",
              "  <div id=\"df-d84b75f8-7592-4af9-b6be-318e7bde2ac5\">\n",
              "    <div class=\"colab-df-container\">\n",
              "      <div>\n",
              "<style scoped>\n",
              "    .dataframe tbody tr th:only-of-type {\n",
              "        vertical-align: middle;\n",
              "    }\n",
              "\n",
              "    .dataframe tbody tr th {\n",
              "        vertical-align: top;\n",
              "    }\n",
              "\n",
              "    .dataframe thead th {\n",
              "        text-align: right;\n",
              "    }\n",
              "</style>\n",
              "<table border=\"1\" class=\"dataframe\">\n",
              "  <thead>\n",
              "    <tr style=\"text-align: right;\">\n",
              "      <th></th>\n",
              "      <th>Date</th>\n",
              "      <th>Open</th>\n",
              "      <th>High</th>\n",
              "      <th>Low</th>\n",
              "      <th>Close</th>\n",
              "      <th>Volume</th>\n",
              "      <th>OpenInt</th>\n",
              "    </tr>\n",
              "  </thead>\n",
              "  <tbody>\n",
              "    <tr>\n",
              "      <th>1564</th>\n",
              "      <td>2017-11-10</td>\n",
              "      <td>56.96</td>\n",
              "      <td>56.96</td>\n",
              "      <td>56.3909</td>\n",
              "      <td>56.4</td>\n",
              "      <td>29233</td>\n",
              "      <td>0</td>\n",
              "    </tr>\n",
              "  </tbody>\n",
              "</table>\n",
              "</div>\n",
              "      <button class=\"colab-df-convert\" onclick=\"convertToInteractive('df-d84b75f8-7592-4af9-b6be-318e7bde2ac5')\"\n",
              "              title=\"Convert this dataframe to an interactive table.\"\n",
              "              style=\"display:none;\">\n",
              "        \n",
              "  <svg xmlns=\"http://www.w3.org/2000/svg\" height=\"24px\"viewBox=\"0 0 24 24\"\n",
              "       width=\"24px\">\n",
              "    <path d=\"M0 0h24v24H0V0z\" fill=\"none\"/>\n",
              "    <path d=\"M18.56 5.44l.94 2.06.94-2.06 2.06-.94-2.06-.94-.94-2.06-.94 2.06-2.06.94zm-11 1L8.5 8.5l.94-2.06 2.06-.94-2.06-.94L8.5 2.5l-.94 2.06-2.06.94zm10 10l.94 2.06.94-2.06 2.06-.94-2.06-.94-.94-2.06-.94 2.06-2.06.94z\"/><path d=\"M17.41 7.96l-1.37-1.37c-.4-.4-.92-.59-1.43-.59-.52 0-1.04.2-1.43.59L10.3 9.45l-7.72 7.72c-.78.78-.78 2.05 0 2.83L4 21.41c.39.39.9.59 1.41.59.51 0 1.02-.2 1.41-.59l7.78-7.78 2.81-2.81c.8-.78.8-2.07 0-2.86zM5.41 20L4 18.59l7.72-7.72 1.47 1.35L5.41 20z\"/>\n",
              "  </svg>\n",
              "      </button>\n",
              "      \n",
              "  <style>\n",
              "    .colab-df-container {\n",
              "      display:flex;\n",
              "      flex-wrap:wrap;\n",
              "      gap: 12px;\n",
              "    }\n",
              "\n",
              "    .colab-df-convert {\n",
              "      background-color: #E8F0FE;\n",
              "      border: none;\n",
              "      border-radius: 50%;\n",
              "      cursor: pointer;\n",
              "      display: none;\n",
              "      fill: #1967D2;\n",
              "      height: 32px;\n",
              "      padding: 0 0 0 0;\n",
              "      width: 32px;\n",
              "    }\n",
              "\n",
              "    .colab-df-convert:hover {\n",
              "      background-color: #E2EBFA;\n",
              "      box-shadow: 0px 1px 2px rgba(60, 64, 67, 0.3), 0px 1px 3px 1px rgba(60, 64, 67, 0.15);\n",
              "      fill: #174EA6;\n",
              "    }\n",
              "\n",
              "    [theme=dark] .colab-df-convert {\n",
              "      background-color: #3B4455;\n",
              "      fill: #D2E3FC;\n",
              "    }\n",
              "\n",
              "    [theme=dark] .colab-df-convert:hover {\n",
              "      background-color: #434B5C;\n",
              "      box-shadow: 0px 1px 3px 1px rgba(0, 0, 0, 0.15);\n",
              "      filter: drop-shadow(0px 1px 2px rgba(0, 0, 0, 0.3));\n",
              "      fill: #FFFFFF;\n",
              "    }\n",
              "  </style>\n",
              "\n",
              "      <script>\n",
              "        const buttonEl =\n",
              "          document.querySelector('#df-d84b75f8-7592-4af9-b6be-318e7bde2ac5 button.colab-df-convert');\n",
              "        buttonEl.style.display =\n",
              "          google.colab.kernel.accessAllowed ? 'block' : 'none';\n",
              "\n",
              "        async function convertToInteractive(key) {\n",
              "          const element = document.querySelector('#df-d84b75f8-7592-4af9-b6be-318e7bde2ac5');\n",
              "          const dataTable =\n",
              "            await google.colab.kernel.invokeFunction('convertToInteractive',\n",
              "                                                     [key], {});\n",
              "          if (!dataTable) return;\n",
              "\n",
              "          const docLinkHtml = 'Like what you see? Visit the ' +\n",
              "            '<a target=\"_blank\" href=https://colab.research.google.com/notebooks/data_table.ipynb>data table notebook</a>'\n",
              "            + ' to learn more about interactive tables.';\n",
              "          element.innerHTML = '';\n",
              "          dataTable['output_type'] = 'display_data';\n",
              "          await google.colab.output.renderOutput(dataTable, element);\n",
              "          const docLink = document.createElement('div');\n",
              "          docLink.innerHTML = docLinkHtml;\n",
              "          element.appendChild(docLink);\n",
              "        }\n",
              "      </script>\n",
              "    </div>\n",
              "  </div>\n",
              "  "
            ]
          },
          "metadata": {},
          "execution_count": 9
        }
      ]
    },
    {
      "cell_type": "code",
      "source": [
        "dataset.isna().any()\n"
      ],
      "metadata": {
        "colab": {
          "base_uri": "https://localhost:8080/"
        },
        "id": "SYcVFf5_w2Rn",
        "outputId": "0baea5dc-220b-429e-d84c-01b8f47d09ba"
      },
      "execution_count": null,
      "outputs": [
        {
          "output_type": "execute_result",
          "data": {
            "text/plain": [
              "Date       False\n",
              "Open       False\n",
              "High       False\n",
              "Low        False\n",
              "Close      False\n",
              "Volume     False\n",
              "OpenInt    False\n",
              "dtype: bool"
            ]
          },
          "metadata": {},
          "execution_count": 10
        }
      ]
    },
    {
      "cell_type": "code",
      "source": [
        "dataset.info()"
      ],
      "metadata": {
        "colab": {
          "base_uri": "https://localhost:8080/"
        },
        "id": "QVVJhrTGw42Q",
        "outputId": "9dd1de1d-85a9-4a5d-a716-c4d0c799813a"
      },
      "execution_count": null,
      "outputs": [
        {
          "output_type": "stream",
          "name": "stdout",
          "text": [
            "<class 'pandas.core.frame.DataFrame'>\n",
            "RangeIndex: 1565 entries, 0 to 1564\n",
            "Data columns (total 7 columns):\n",
            " #   Column   Non-Null Count  Dtype  \n",
            "---  ------   --------------  -----  \n",
            " 0   Date     1565 non-null   object \n",
            " 1   Open     1565 non-null   float64\n",
            " 2   High     1565 non-null   float64\n",
            " 3   Low      1565 non-null   float64\n",
            " 4   Close    1565 non-null   float64\n",
            " 5   Volume   1565 non-null   int64  \n",
            " 6   OpenInt  1565 non-null   int64  \n",
            "dtypes: float64(4), int64(2), object(1)\n",
            "memory usage: 85.7+ KB\n"
          ]
        }
      ]
    },
    {
      "cell_type": "code",
      "source": [
        "dataset.drop(\"Date\",axis=1,inplace=True)\n",
        "dataset.drop(\"OpenInt\",axis=1,inplace=True)"
      ],
      "metadata": {
        "id": "xiSbH2G-w46C"
      },
      "execution_count": null,
      "outputs": []
    },
    {
      "cell_type": "code",
      "source": [
        "dataset.head()\n"
      ],
      "metadata": {
        "colab": {
          "base_uri": "https://localhost:8080/",
          "height": 206
        },
        "id": "FM9XOO_Nw49I",
        "outputId": "f1cead9d-5305-4482-ec17-14374b22943c"
      },
      "execution_count": null,
      "outputs": [
        {
          "output_type": "execute_result",
          "data": {
            "text/plain": [
              "     Open    High     Low   Close  Volume\n",
              "0  24.333  24.333  23.946  23.946   43321\n",
              "1  24.644  24.644  24.362  24.487   18031\n",
              "2  24.759  24.759  24.314  24.507    8897\n",
              "3  24.624  24.624  24.449  24.595   19443\n",
              "4  24.477  24.517  24.431  24.517    8456"
            ],
            "text/html": [
              "\n",
              "  <div id=\"df-726d9385-172c-42cf-b36b-0e190445d511\">\n",
              "    <div class=\"colab-df-container\">\n",
              "      <div>\n",
              "<style scoped>\n",
              "    .dataframe tbody tr th:only-of-type {\n",
              "        vertical-align: middle;\n",
              "    }\n",
              "\n",
              "    .dataframe tbody tr th {\n",
              "        vertical-align: top;\n",
              "    }\n",
              "\n",
              "    .dataframe thead th {\n",
              "        text-align: right;\n",
              "    }\n",
              "</style>\n",
              "<table border=\"1\" class=\"dataframe\">\n",
              "  <thead>\n",
              "    <tr style=\"text-align: right;\">\n",
              "      <th></th>\n",
              "      <th>Open</th>\n",
              "      <th>High</th>\n",
              "      <th>Low</th>\n",
              "      <th>Close</th>\n",
              "      <th>Volume</th>\n",
              "    </tr>\n",
              "  </thead>\n",
              "  <tbody>\n",
              "    <tr>\n",
              "      <th>0</th>\n",
              "      <td>24.333</td>\n",
              "      <td>24.333</td>\n",
              "      <td>23.946</td>\n",
              "      <td>23.946</td>\n",
              "      <td>43321</td>\n",
              "    </tr>\n",
              "    <tr>\n",
              "      <th>1</th>\n",
              "      <td>24.644</td>\n",
              "      <td>24.644</td>\n",
              "      <td>24.362</td>\n",
              "      <td>24.487</td>\n",
              "      <td>18031</td>\n",
              "    </tr>\n",
              "    <tr>\n",
              "      <th>2</th>\n",
              "      <td>24.759</td>\n",
              "      <td>24.759</td>\n",
              "      <td>24.314</td>\n",
              "      <td>24.507</td>\n",
              "      <td>8897</td>\n",
              "    </tr>\n",
              "    <tr>\n",
              "      <th>3</th>\n",
              "      <td>24.624</td>\n",
              "      <td>24.624</td>\n",
              "      <td>24.449</td>\n",
              "      <td>24.595</td>\n",
              "      <td>19443</td>\n",
              "    </tr>\n",
              "    <tr>\n",
              "      <th>4</th>\n",
              "      <td>24.477</td>\n",
              "      <td>24.517</td>\n",
              "      <td>24.431</td>\n",
              "      <td>24.517</td>\n",
              "      <td>8456</td>\n",
              "    </tr>\n",
              "  </tbody>\n",
              "</table>\n",
              "</div>\n",
              "      <button class=\"colab-df-convert\" onclick=\"convertToInteractive('df-726d9385-172c-42cf-b36b-0e190445d511')\"\n",
              "              title=\"Convert this dataframe to an interactive table.\"\n",
              "              style=\"display:none;\">\n",
              "        \n",
              "  <svg xmlns=\"http://www.w3.org/2000/svg\" height=\"24px\"viewBox=\"0 0 24 24\"\n",
              "       width=\"24px\">\n",
              "    <path d=\"M0 0h24v24H0V0z\" fill=\"none\"/>\n",
              "    <path d=\"M18.56 5.44l.94 2.06.94-2.06 2.06-.94-2.06-.94-.94-2.06-.94 2.06-2.06.94zm-11 1L8.5 8.5l.94-2.06 2.06-.94-2.06-.94L8.5 2.5l-.94 2.06-2.06.94zm10 10l.94 2.06.94-2.06 2.06-.94-2.06-.94-.94-2.06-.94 2.06-2.06.94z\"/><path d=\"M17.41 7.96l-1.37-1.37c-.4-.4-.92-.59-1.43-.59-.52 0-1.04.2-1.43.59L10.3 9.45l-7.72 7.72c-.78.78-.78 2.05 0 2.83L4 21.41c.39.39.9.59 1.41.59.51 0 1.02-.2 1.41-.59l7.78-7.78 2.81-2.81c.8-.78.8-2.07 0-2.86zM5.41 20L4 18.59l7.72-7.72 1.47 1.35L5.41 20z\"/>\n",
              "  </svg>\n",
              "      </button>\n",
              "      \n",
              "  <style>\n",
              "    .colab-df-container {\n",
              "      display:flex;\n",
              "      flex-wrap:wrap;\n",
              "      gap: 12px;\n",
              "    }\n",
              "\n",
              "    .colab-df-convert {\n",
              "      background-color: #E8F0FE;\n",
              "      border: none;\n",
              "      border-radius: 50%;\n",
              "      cursor: pointer;\n",
              "      display: none;\n",
              "      fill: #1967D2;\n",
              "      height: 32px;\n",
              "      padding: 0 0 0 0;\n",
              "      width: 32px;\n",
              "    }\n",
              "\n",
              "    .colab-df-convert:hover {\n",
              "      background-color: #E2EBFA;\n",
              "      box-shadow: 0px 1px 2px rgba(60, 64, 67, 0.3), 0px 1px 3px 1px rgba(60, 64, 67, 0.15);\n",
              "      fill: #174EA6;\n",
              "    }\n",
              "\n",
              "    [theme=dark] .colab-df-convert {\n",
              "      background-color: #3B4455;\n",
              "      fill: #D2E3FC;\n",
              "    }\n",
              "\n",
              "    [theme=dark] .colab-df-convert:hover {\n",
              "      background-color: #434B5C;\n",
              "      box-shadow: 0px 1px 3px 1px rgba(0, 0, 0, 0.15);\n",
              "      filter: drop-shadow(0px 1px 2px rgba(0, 0, 0, 0.3));\n",
              "      fill: #FFFFFF;\n",
              "    }\n",
              "  </style>\n",
              "\n",
              "      <script>\n",
              "        const buttonEl =\n",
              "          document.querySelector('#df-726d9385-172c-42cf-b36b-0e190445d511 button.colab-df-convert');\n",
              "        buttonEl.style.display =\n",
              "          google.colab.kernel.accessAllowed ? 'block' : 'none';\n",
              "\n",
              "        async function convertToInteractive(key) {\n",
              "          const element = document.querySelector('#df-726d9385-172c-42cf-b36b-0e190445d511');\n",
              "          const dataTable =\n",
              "            await google.colab.kernel.invokeFunction('convertToInteractive',\n",
              "                                                     [key], {});\n",
              "          if (!dataTable) return;\n",
              "\n",
              "          const docLinkHtml = 'Like what you see? Visit the ' +\n",
              "            '<a target=\"_blank\" href=https://colab.research.google.com/notebooks/data_table.ipynb>data table notebook</a>'\n",
              "            + ' to learn more about interactive tables.';\n",
              "          element.innerHTML = '';\n",
              "          dataTable['output_type'] = 'display_data';\n",
              "          await google.colab.output.renderOutput(dataTable, element);\n",
              "          const docLink = document.createElement('div');\n",
              "          docLink.innerHTML = docLinkHtml;\n",
              "          element.appendChild(docLink);\n",
              "        }\n",
              "      </script>\n",
              "    </div>\n",
              "  </div>\n",
              "  "
            ]
          },
          "metadata": {},
          "execution_count": 13
        }
      ]
    },
    {
      "cell_type": "code",
      "source": [
        "dataset['Open'].plot(figsize=(16,6))"
      ],
      "metadata": {
        "colab": {
          "base_uri": "https://localhost:8080/",
          "height": 392
        },
        "id": "voJbcjkjw5Ah",
        "outputId": "b8bf9726-4dff-4c02-90ac-38f7da098943"
      },
      "execution_count": null,
      "outputs": [
        {
          "output_type": "execute_result",
          "data": {
            "text/plain": [
              "<matplotlib.axes._subplots.AxesSubplot at 0x7f6f070a1b90>"
            ]
          },
          "metadata": {},
          "execution_count": 14
        },
        {
          "output_type": "display_data",
          "data": {
            "text/plain": [
              "<Figure size 1152x432 with 1 Axes>"
            ],
            "image/png": "[encoded data removed]"
          },
          "metadata": {
            "needs_background": "light"
          }
        }
      ]
    },
    {
      "cell_type": "code",
      "source": [
        "dataset[\"Volume\"] = dataset[\"Volume\"].astype(float)"
      ],
      "metadata": {
        "id": "wlOxnI5zw5DW"
      },
      "execution_count": null,
      "outputs": []
    },
    {
      "cell_type": "code",
      "source": [
        "dataset.rolling(7).mean().head(20)"
      ],
      "metadata": {
        "colab": {
          "base_uri": "https://localhost:8080/",
          "height": 676
        },
        "id": "nGO1Vzz8w5F9",
        "outputId": "ab4ca2ec-a78b-466e-e6a5-92678d59646c"
      },
      "execution_count": null,
      "outputs": [
        {
          "output_type": "execute_result",
          "data": {
            "text/plain": [
              "         Open       High        Low      Close        Volume\n",
              "0         NaN        NaN        NaN        NaN           NaN\n",
              "1         NaN        NaN        NaN        NaN           NaN\n",
              "2         NaN        NaN        NaN        NaN           NaN\n",
              "3         NaN        NaN        NaN        NaN           NaN\n",
              "4         NaN        NaN        NaN        NaN           NaN\n",
              "5         NaN        NaN        NaN        NaN           NaN\n",
              "6   24.548714  24.560143  24.301429  24.391286  14907.571429\n",
              "7   24.533714  24.560143  24.341714  24.446571   8807.142857\n",
              "8   24.572571  24.600429  24.384857  24.496857   7254.285714\n",
              "9   24.602143  24.644714  24.478000  24.573286   7628.428571\n",
              "10  24.665714  24.708286  24.566571  24.641000   4924.142857\n",
              "11  24.757286  24.794143  24.664714  24.726857   3789.428571\n",
              "12  24.765857  24.852571  24.691143  24.797571   3182.714286\n",
              "13  24.863000  24.981429  24.827000  24.941714   3808.714286\n",
              "14  25.014000  25.117429  24.978000  25.077714   3793.714286\n",
              "15  24.940429  25.042429  24.940429  25.015143   2785.142857\n",
              "16  24.841857  24.929143  24.841857  24.905714   1287.428571\n",
              "17  24.746429  24.833714  24.746429  24.810286   1228.571429\n",
              "18  24.659143  24.746429  24.653429  24.717286   1597.285714\n",
              "19  24.695143  24.752143  24.689429  24.723000   2452.142857"
            ],
            "text/html": [
              "\n",
              "  <div id=\"df-54f3a9ec-c189-437e-a003-fb0ded92d5c7\">\n",
              "    <div class=\"colab-df-container\">\n",
              "      <div>\n",
              "<style scoped>\n",
              "    .dataframe tbody tr th:only-of-type {\n",
              "        vertical-align: middle;\n",
              "    }\n",
              "\n",
              "    .dataframe tbody tr th {\n",
              "        vertical-align: top;\n",
              "    }\n",
              "\n",
              "    .dataframe thead th {\n",
              "        text-align: right;\n",
              "    }\n",
              "</style>\n",
              "<table border=\"1\" class=\"dataframe\">\n",
              "  <thead>\n",
              "    <tr style=\"text-align: right;\">\n",
              "      <th></th>\n",
              "      <th>Open</th>\n",
              "      <th>High</th>\n",
              "      <th>Low</th>\n",
              "      <th>Close</th>\n",
              "      <th>Volume</th>\n",
              "    </tr>\n",
              "  </thead>\n",
              "  <tbody>\n",
              "    <tr>\n",
              "      <th>0</th>\n",
              "      <td>NaN</td>\n",
              "      <td>NaN</td>\n",
              "      <td>NaN</td>\n",
              "      <td>NaN</td>\n",
              "      <td>NaN</td>\n",
              "    </tr>\n",
              "    <tr>\n",
              "      <th>1</th>\n",
              "      <td>NaN</td>\n",
              "      <td>NaN</td>\n",
              "      <td>NaN</td>\n",
              "      <td>NaN</td>\n",
              "      <td>NaN</td>\n",
              "    </tr>\n",
              "    <tr>\n",
              "      <th>2</th>\n",
              "      <td>NaN</td>\n",
              "      <td>NaN</td>\n",
              "      <td>NaN</td>\n",
              "      <td>NaN</td>\n",
              "      <td>NaN</td>\n",
              "    </tr>\n",
              "    <tr>\n",
              "      <th>3</th>\n",
              "      <td>NaN</td>\n",
              "      <td>NaN</td>\n",
              "      <td>NaN</td>\n",
              "      <td>NaN</td>\n",
              "      <td>NaN</td>\n",
              "    </tr>\n",
              "    <tr>\n",
              "      <th>4</th>\n",
              "      <td>NaN</td>\n",
              "      <td>NaN</td>\n",
              "      <td>NaN</td>\n",
              "      <td>NaN</td>\n",
              "      <td>NaN</td>\n",
              "    </tr>\n",
              "    <tr>\n",
              "      <th>5</th>\n",
              "      <td>NaN</td>\n",
              "      <td>NaN</td>\n",
              "      <td>NaN</td>\n",
              "      <td>NaN</td>\n",
              "      <td>NaN</td>\n",
              "    </tr>\n",
              "    <tr>\n",
              "      <th>6</th>\n",
              "      <td>24.548714</td>\n",
              "      <td>24.560143</td>\n",
              "      <td>24.301429</td>\n",
              "      <td>24.391286</td>\n",
              "      <td>14907.571429</td>\n",
              "    </tr>\n",
              "    <tr>\n",
              "      <th>7</th>\n",
              "      <td>24.533714</td>\n",
              "      <td>24.560143</td>\n",
              "      <td>24.341714</td>\n",
              "      <td>24.446571</td>\n",
              "      <td>8807.142857</td>\n",
              "    </tr>\n",
              "    <tr>\n",
              "      <th>8</th>\n",
              "      <td>24.572571</td>\n",
              "      <td>24.600429</td>\n",
              "      <td>24.384857</td>\n",
              "      <td>24.496857</td>\n",
              "      <td>7254.285714</td>\n",
              "    </tr>\n",
              "    <tr>\n",
              "      <th>9</th>\n",
              "      <td>24.602143</td>\n",
              "      <td>24.644714</td>\n",
              "      <td>24.478000</td>\n",
              "      <td>24.573286</td>\n",
              "      <td>7628.428571</td>\n",
              "    </tr>\n",
              "    <tr>\n",
              "      <th>10</th>\n",
              "      <td>24.665714</td>\n",
              "      <td>24.708286</td>\n",
              "      <td>24.566571</td>\n",
              "      <td>24.641000</td>\n",
              "      <td>4924.142857</td>\n",
              "    </tr>\n",
              "    <tr>\n",
              "      <th>11</th>\n",
              "      <td>24.757286</td>\n",
              "      <td>24.794143</td>\n",
              "      <td>24.664714</td>\n",
              "      <td>24.726857</td>\n",
              "      <td>3789.428571</td>\n",
              "    </tr>\n",
              "    <tr>\n",
              "      <th>12</th>\n",
              "      <td>24.765857</td>\n",
              "      <td>24.852571</td>\n",
              "      <td>24.691143</td>\n",
              "      <td>24.797571</td>\n",
              "      <td>3182.714286</td>\n",
              "    </tr>\n",
              "    <tr>\n",
              "      <th>13</th>\n",
              "      <td>24.863000</td>\n",
              "      <td>24.981429</td>\n",
              "      <td>24.827000</td>\n",
              "      <td>24.941714</td>\n",
              "      <td>3808.714286</td>\n",
              "    </tr>\n",
              "    <tr>\n",
              "      <th>14</th>\n",
              "      <td>25.014000</td>\n",
              "      <td>25.117429</td>\n",
              "      <td>24.978000</td>\n",
              "      <td>25.077714</td>\n",
              "      <td>3793.714286</td>\n",
              "    </tr>\n",
              "    <tr>\n",
              "      <th>15</th>\n",
              "      <td>24.940429</td>\n",
              "      <td>25.042429</td>\n",
              "      <td>24.940429</td>\n",
              "      <td>25.015143</td>\n",
              "      <td>2785.142857</td>\n",
              "    </tr>\n",
              "    <tr>\n",
              "      <th>16</th>\n",
              "      <td>24.841857</td>\n",
              "      <td>24.929143</td>\n",
              "      <td>24.841857</td>\n",
              "      <td>24.905714</td>\n",
              "      <td>1287.428571</td>\n",
              "    </tr>\n",
              "    <tr>\n",
              "      <th>17</th>\n",
              "      <td>24.746429</td>\n",
              "      <td>24.833714</td>\n",
              "      <td>24.746429</td>\n",
              "      <td>24.810286</td>\n",
              "      <td>1228.571429</td>\n",
              "    </tr>\n",
              "    <tr>\n",
              "      <th>18</th>\n",
              "      <td>24.659143</td>\n",
              "      <td>24.746429</td>\n",
              "      <td>24.653429</td>\n",
              "      <td>24.717286</td>\n",
              "      <td>1597.285714</td>\n",
              "    </tr>\n",
              "    <tr>\n",
              "      <th>19</th>\n",
              "      <td>24.695143</td>\n",
              "      <td>24.752143</td>\n",
              "      <td>24.689429</td>\n",
              "      <td>24.723000</td>\n",
              "      <td>2452.142857</td>\n",
              "    </tr>\n",
              "  </tbody>\n",
              "</table>\n",
              "</div>\n",
              "      <button class=\"colab-df-convert\" onclick=\"convertToInteractive('df-54f3a9ec-c189-437e-a003-fb0ded92d5c7')\"\n",
              "              title=\"Convert this dataframe to an interactive table.\"\n",
              "              style=\"display:none;\">\n",
              "        \n",
              "  <svg xmlns=\"http://www.w3.org/2000/svg\" height=\"24px\"viewBox=\"0 0 24 24\"\n",
              "       width=\"24px\">\n",
              "    <path d=\"M0 0h24v24H0V0z\" fill=\"none\"/>\n",
              "    <path d=\"M18.56 5.44l.94 2.06.94-2.06 2.06-.94-2.06-.94-.94-2.06-.94 2.06-2.06.94zm-11 1L8.5 8.5l.94-2.06 2.06-.94-2.06-.94L8.5 2.5l-.94 2.06-2.06.94zm10 10l.94 2.06.94-2.06 2.06-.94-2.06-.94-.94-2.06-.94 2.06-2.06.94z\"/><path d=\"M17.41 7.96l-1.37-1.37c-.4-.4-.92-.59-1.43-.59-.52 0-1.04.2-1.43.59L10.3 9.45l-7.72 7.72c-.78.78-.78 2.05 0 2.83L4 21.41c.39.39.9.59 1.41.59.51 0 1.02-.2 1.41-.59l7.78-7.78 2.81-2.81c.8-.78.8-2.07 0-2.86zM5.41 20L4 18.59l7.72-7.72 1.47 1.35L5.41 20z\"/>\n",
              "  </svg>\n",
              "      </button>\n",
              "      \n",
              "  <style>\n",
              "    .colab-df-container {\n",
              "      display:flex;\n",
              "      flex-wrap:wrap;\n",
              "      gap: 12px;\n",
              "    }\n",
              "\n",
              "    .colab-df-convert {\n",
              "      background-color: #E8F0FE;\n",
              "      border: none;\n",
              "      border-radius: 50%;\n",
              "      cursor: pointer;\n",
              "      display: none;\n",
              "      fill: #1967D2;\n",
              "      height: 32px;\n",
              "      padding: 0 0 0 0;\n",
              "      width: 32px;\n",
              "    }\n",
              "\n",
              "    .colab-df-convert:hover {\n",
              "      background-color: #E2EBFA;\n",
              "      box-shadow: 0px 1px 2px rgba(60, 64, 67, 0.3), 0px 1px 3px 1px rgba(60, 64, 67, 0.15);\n",
              "      fill: #174EA6;\n",
              "    }\n",
              "\n",
              "    [theme=dark] .colab-df-convert {\n",
              "      background-color: #3B4455;\n",
              "      fill: #D2E3FC;\n",
              "    }\n",
              "\n",
              "    [theme=dark] .colab-df-convert:hover {\n",
              "      background-color: #434B5C;\n",
              "      box-shadow: 0px 1px 3px 1px rgba(0, 0, 0, 0.15);\n",
              "      filter: drop-shadow(0px 1px 2px rgba(0, 0, 0, 0.3));\n",
              "      fill: #FFFFFF;\n",
              "    }\n",
              "  </style>\n",
              "\n",
              "      <script>\n",
              "        const buttonEl =\n",
              "          document.querySelector('#df-54f3a9ec-c189-437e-a003-fb0ded92d5c7 button.colab-df-convert');\n",
              "        buttonEl.style.display =\n",
              "          google.colab.kernel.accessAllowed ? 'block' : 'none';\n",
              "\n",
              "        async function convertToInteractive(key) {\n",
              "          const element = document.querySelector('#df-54f3a9ec-c189-437e-a003-fb0ded92d5c7');\n",
              "          const dataTable =\n",
              "            await google.colab.kernel.invokeFunction('convertToInteractive',\n",
              "                                                     [key], {});\n",
              "          if (!dataTable) return;\n",
              "\n",
              "          const docLinkHtml = 'Like what you see? Visit the ' +\n",
              "            '<a target=\"_blank\" href=https://colab.research.google.com/notebooks/data_table.ipynb>data table notebook</a>'\n",
              "            + ' to learn more about interactive tables.';\n",
              "          element.innerHTML = '';\n",
              "          dataTable['output_type'] = 'display_data';\n",
              "          await google.colab.output.renderOutput(dataTable, element);\n",
              "          const docLink = document.createElement('div');\n",
              "          docLink.innerHTML = docLinkHtml;\n",
              "          element.appendChild(docLink);\n",
              "        }\n",
              "      </script>\n",
              "    </div>\n",
              "  </div>\n",
              "  "
            ]
          },
          "metadata": {},
          "execution_count": 16
        }
      ]
    },
    {
      "cell_type": "code",
      "source": [
        "dataset['Open'].plot(figsize=(16,6))\n",
        "dataset.rolling(window=30).mean()[\"Close\"].plot()"
      ],
      "metadata": {
        "colab": {
          "base_uri": "https://localhost:8080/",
          "height": 392
        },
        "id": "lyDxgHqJw5I9",
        "outputId": "8f4bdf12-e203-4118-8b80-bdab1afa95ff"
      },
      "execution_count": null,
      "outputs": [
        {
          "output_type": "execute_result",
          "data": {
            "text/plain": [
              "<matplotlib.axes._subplots.AxesSubplot at 0x7f1c0ce2a8d0>"
            ]
          },
          "metadata": {},
          "execution_count": 24
        },
        {
          "output_type": "display_data",
          "data": {
            "text/plain": [
              "<Figure size 1152x432 with 1 Axes>"
            ],
            "image/png": "[encoded data removed]"
          },
          "metadata": {
            "needs_background": "light"
          }
        }
      ]
    },
    {
      "cell_type": "code",
      "source": [
        "dataset['Close:30 Day Mean']=dataset['Close'].rolling(window=30).mean()\n",
        "dataset[['Close','Close:30 Day Mean']].plot(figsize=(16,6))"
      ],
      "metadata": {
        "colab": {
          "base_uri": "https://localhost:8080/",
          "height": 394
        },
        "id": "_bXK9DZIw5L6",
        "outputId": "a177f297-6253-45a4-f092-1778a4baafd9"
      },
      "execution_count": null,
      "outputs": [
        {
          "output_type": "execute_result",
          "data": {
            "text/plain": [
              "<matplotlib.axes._subplots.AxesSubplot at 0x7f1c0cdaa3d0>"
            ]
          },
          "metadata": {},
          "execution_count": 25
        },
        {
          "output_type": "display_data",
          "data": {
            "text/plain": [
              "<Figure size 1152x432 with 1 Axes>"
            ],
            "image/png": "[encoded data removed]"
          },
          "metadata": {
            "needs_background": "light"
          }
        }
      ]
    },
    {
      "cell_type": "code",
      "source": [
        "dataset['Close'].expanding(min_periods=1).mean().plot(figsize=(16,6))"
      ],
      "metadata": {
        "colab": {
          "base_uri": "https://localhost:8080/",
          "height": 391
        },
        "id": "8ZWeY6Dpw5OT",
        "outputId": "9e69ba04-e4cc-4a78-cc7c-126a6d777474"
      },
      "execution_count": null,
      "outputs": [
        {
          "output_type": "execute_result",
          "data": {
            "text/plain": [
              "<matplotlib.axes._subplots.AxesSubplot at 0x7f1c0cdaad50>"
            ]
          },
          "metadata": {},
          "execution_count": 26
        },
        {
          "output_type": "display_data",
          "data": {
            "text/plain": [
              "<Figure size 1152x432 with 1 Axes>"
            ],
            "image/png": "[encoded data removed]"
          },
          "metadata": {
            "needs_background": "light"
          }
        }
      ]
    },
    {
      "cell_type": "code",
      "source": [
        "training_set=dataset['Open']\n",
        "training_set=pd.DataFrame(training_set)"
      ],
      "metadata": {
        "id": "siQzeqK8w5RE"
      },
      "execution_count": null,
      "outputs": []
    },
    {
      "cell_type": "code",
      "source": [
        "print(dataset.shape)"
      ],
      "metadata": {
        "colab": {
          "base_uri": "https://localhost:8080/"
        },
        "id": "sZyprnqGxnit",
        "outputId": "48d17572-940b-472b-a9d1-b94d1f74d18f"
      },
      "execution_count": null,
      "outputs": [
        {
          "output_type": "stream",
          "name": "stdout",
          "text": [
            "(1565, 6)\n"
          ]
        }
      ]
    },
    {
      "cell_type": "code",
      "source": [
        "dataset.isna().any()"
      ],
      "metadata": {
        "colab": {
          "base_uri": "https://localhost:8080/"
        },
        "id": "t2REFI7jxnla",
        "outputId": "ca95c218-aaa1-4a26-895b-b1264f64510d"
      },
      "execution_count": null,
      "outputs": [
        {
          "output_type": "execute_result",
          "data": {
            "text/plain": [
              "Open                 False\n",
              "High                 False\n",
              "Low                  False\n",
              "Close                False\n",
              "Volume               False\n",
              "Close:30 Day Mean     True\n",
              "dtype: bool"
            ]
          },
          "metadata": {},
          "execution_count": 29
        }
      ]
    },
    {
      "cell_type": "code",
      "source": [
        "from sklearn.preprocessing import MinMaxScaler\n",
        "sc=MinMaxScaler(feature_range=(0,1))\n",
        "training_set_scaled=sc.fit_transform(training_set)"
      ],
      "metadata": {
        "id": "61MtbRJbxnoN"
      },
      "execution_count": null,
      "outputs": []
    },
    {
      "cell_type": "code",
      "source": [
        "X_train=[]\n",
        "y_train=[]\n",
        "for i in range(60,1565):\n",
        "    X_train.append(training_set_scaled[i-60:i,0])\n",
        "    y_train.append(training_set_scaled[i,0])\n",
        "X_train,y_train=np.array(X_train),np.array(y_train)\n",
        "X_train=np.reshape(X_train,(X_train.shape[0],X_train.shape[1],1))"
      ],
      "metadata": {
        "id": "joKYjzqKxnrO"
      },
      "execution_count": null,
      "outputs": []
    },
    {
      "cell_type": "code",
      "source": [
        "from keras.models import Sequential\n",
        "from keras.layers import Dense\n",
        "from keras.layers import LSTM\n",
        "from keras.layers import Dropout"
      ],
      "metadata": {
        "id": "5O-wFCZDxnuG"
      },
      "execution_count": null,
      "outputs": []
    },
    {
      "cell_type": "code",
      "source": [
        "regessor=Sequential()"
      ],
      "metadata": {
        "id": "Pw1AgFkFxnw3"
      },
      "execution_count": null,
      "outputs": []
    },
    {
      "cell_type": "code",
      "source": [
        "regessor.add(LSTM(units=50,return_sequences=True,input_shape=(X_train.shape[1],1)))\n",
        "regessor.add(Dropout(0.2))\n",
        "regessor.add(LSTM(units=50,return_sequences=True))\n",
        "regessor.add(Dropout(0.2))\n",
        "regessor.add(LSTM(units=50,return_sequences=True))\n",
        "regessor.add(Dropout(0.2))\n",
        "regessor.add(LSTM(units=50))\n",
        "regessor.add(Dropout(0.2))\n",
        "regessor.add(Dense(units=1))"
      ],
      "metadata": {
        "id": "IAc5V5roxnzi"
      },
      "execution_count": null,
      "outputs": []
    },
    {
      "cell_type": "code",
      "source": [
        "regessor.compile(optimizer ='adam',loss='mean_squared_error')\n",
        "regessor.fit(X_train,y_train,epochs=100,batch_size=32)"
      ],
      "metadata": {
        "colab": {
          "base_uri": "https://localhost:8080/"
        },
        "id": "-5awXY7txn2v",
        "outputId": "1f41c5b0-4fe3-4db5-9b47-640e570cd369"
      },
      "execution_count": null,
      "outputs": [
        {
          "output_type": "stream",
          "name": "stdout",
          "text": [
            "Epoch 1/100\n",
            "48/48 [==============================] - 14s 121ms/step - loss: 0.0176\n",
            "Epoch 2/100\n",
            "48/48 [==============================] - 6s 121ms/step - loss: 0.0033\n",
            "Epoch 3/100\n",
            "48/48 [==============================] - 6s 122ms/step - loss: 0.0027\n",
            "Epoch 4/100\n",
            "48/48 [==============================] - 6s 124ms/step - loss: 0.0026\n",
            "Epoch 5/100\n",
            "48/48 [==============================] - 6s 121ms/step - loss: 0.0025\n",
            "Epoch 6/100\n",
            "48/48 [==============================] - 6s 122ms/step - loss: 0.0024\n",
            "Epoch 7/100\n",
            "48/48 [==============================] - 6s 125ms/step - loss: 0.0026\n",
            "Epoch 8/100\n",
            "48/48 [==============================] - 8s 165ms/step - loss: 0.0024\n",
            "Epoch 9/100\n",
            "48/48 [==============================] - 6s 123ms/step - loss: 0.0021\n",
            "Epoch 10/100\n",
            "48/48 [==============================] - 6s 124ms/step - loss: 0.0021\n",
            "Epoch 11/100\n",
            "48/48 [==============================] - 6s 122ms/step - loss: 0.0021\n",
            "Epoch 12/100\n",
            "48/48 [==============================] - 6s 123ms/step - loss: 0.0022\n",
            "Epoch 13/100\n",
            "48/48 [==============================] - 6s 122ms/step - loss: 0.0017\n",
            "Epoch 14/100\n",
            "48/48 [==============================] - 6s 121ms/step - loss: 0.0020\n",
            "Epoch 15/100\n",
            "48/48 [==============================] - 7s 156ms/step - loss: 0.0028\n",
            "Epoch 16/100\n",
            "48/48 [==============================] - 6s 120ms/step - loss: 0.0021\n",
            "Epoch 17/100\n",
            "48/48 [==============================] - 6s 120ms/step - loss: 0.0026\n",
            "Epoch 18/100\n",
            "48/48 [==============================] - 6s 120ms/step - loss: 0.0016\n",
            "Epoch 19/100\n",
            "48/48 [==============================] - 6s 120ms/step - loss: 0.0017\n",
            "Epoch 20/100\n",
            "48/48 [==============================] - 6s 121ms/step - loss: 0.0017\n",
            "Epoch 21/100\n",
            "48/48 [==============================] - 6s 121ms/step - loss: 0.0017\n",
            "Epoch 22/100\n",
            "48/48 [==============================] - 6s 121ms/step - loss: 0.0016\n",
            "Epoch 23/100\n",
            "48/48 [==============================] - 6s 121ms/step - loss: 0.0015\n",
            "Epoch 24/100\n",
            "48/48 [==============================] - 6s 122ms/step - loss: 0.0016\n",
            "Epoch 25/100\n",
            "48/48 [==============================] - 6s 123ms/step - loss: 0.0015\n",
            "Epoch 26/100\n",
            "48/48 [==============================] - 6s 121ms/step - loss: 0.0014\n",
            "Epoch 27/100\n",
            "48/48 [==============================] - 6s 123ms/step - loss: 0.0015\n",
            "Epoch 28/100\n",
            "48/48 [==============================] - 6s 127ms/step - loss: 0.0013\n",
            "Epoch 29/100\n",
            "48/48 [==============================] - 6s 125ms/step - loss: 0.0021\n",
            "Epoch 30/100\n",
            "48/48 [==============================] - 6s 123ms/step - loss: 0.0013\n",
            "Epoch 31/100\n",
            "48/48 [==============================] - 6s 123ms/step - loss: 0.0013\n",
            "Epoch 32/100\n",
            "48/48 [==============================] - 6s 122ms/step - loss: 0.0013\n",
            "Epoch 33/100\n",
            "48/48 [==============================] - 6s 122ms/step - loss: 0.0013\n",
            "Epoch 34/100\n",
            "48/48 [==============================] - 6s 122ms/step - loss: 0.0014\n",
            "Epoch 35/100\n",
            "48/48 [==============================] - 6s 122ms/step - loss: 0.0014\n",
            "Epoch 36/100\n",
            "48/48 [==============================] - 6s 122ms/step - loss: 0.0012\n",
            "Epoch 37/100\n",
            "48/48 [==============================] - 6s 122ms/step - loss: 0.0013\n",
            "Epoch 38/100\n",
            "48/48 [==============================] - 6s 127ms/step - loss: 0.0011\n",
            "Epoch 39/100\n",
            "48/48 [==============================] - 6s 122ms/step - loss: 0.0013\n",
            "Epoch 40/100\n",
            "48/48 [==============================] - 6s 123ms/step - loss: 0.0012\n",
            "Epoch 41/100\n",
            "48/48 [==============================] - 6s 123ms/step - loss: 0.0011\n",
            "Epoch 42/100\n",
            "48/48 [==============================] - 6s 124ms/step - loss: 0.0012\n",
            "Epoch 43/100\n",
            "48/48 [==============================] - 6s 122ms/step - loss: 0.0011\n",
            "Epoch 44/100\n",
            "48/48 [==============================] - 6s 122ms/step - loss: 0.0012\n",
            "Epoch 45/100\n",
            "48/48 [==============================] - 6s 124ms/step - loss: 0.0011\n",
            "Epoch 46/100\n",
            "48/48 [==============================] - 6s 122ms/step - loss: 0.0013\n",
            "Epoch 47/100\n",
            "48/48 [==============================] - 6s 121ms/step - loss: 0.0013\n",
            "Epoch 48/100\n",
            "48/48 [==============================] - 6s 124ms/step - loss: 0.0011\n",
            "Epoch 49/100\n",
            "48/48 [==============================] - 6s 122ms/step - loss: 0.0012\n",
            "Epoch 50/100\n",
            "48/48 [==============================] - 6s 123ms/step - loss: 0.0011\n",
            "Epoch 51/100\n",
            "48/48 [==============================] - 6s 122ms/step - loss: 0.0011\n",
            "Epoch 52/100\n",
            "48/48 [==============================] - 6s 122ms/step - loss: 0.0011\n",
            "Epoch 53/100\n",
            "48/48 [==============================] - 6s 122ms/step - loss: 0.0011\n",
            "Epoch 54/100\n",
            "48/48 [==============================] - 6s 122ms/step - loss: 0.0013\n",
            "Epoch 55/100\n",
            "48/48 [==============================] - 6s 122ms/step - loss: 0.0010\n",
            "Epoch 56/100\n",
            "48/48 [==============================] - 6s 122ms/step - loss: 0.0011\n",
            "Epoch 57/100\n",
            "48/48 [==============================] - 6s 122ms/step - loss: 0.0011\n",
            "Epoch 58/100\n",
            "48/48 [==============================] - 6s 123ms/step - loss: 0.0010\n",
            "Epoch 59/100\n",
            "48/48 [==============================] - 6s 122ms/step - loss: 0.0010\n",
            "Epoch 60/100\n",
            "48/48 [==============================] - 7s 150ms/step - loss: 9.3417e-04\n",
            "Epoch 61/100\n",
            "48/48 [==============================] - 7s 137ms/step - loss: 9.1886e-04\n",
            "Epoch 62/100\n",
            "48/48 [==============================] - 6s 123ms/step - loss: 9.0765e-04\n",
            "Epoch 63/100\n",
            "48/48 [==============================] - 6s 123ms/step - loss: 9.9430e-04\n",
            "Epoch 64/100\n",
            "48/48 [==============================] - 6s 125ms/step - loss: 0.0011\n",
            "Epoch 65/100\n",
            "48/48 [==============================] - 6s 126ms/step - loss: 0.0012\n",
            "Epoch 66/100\n",
            "48/48 [==============================] - 6s 127ms/step - loss: 9.0285e-04\n",
            "Epoch 67/100\n",
            "48/48 [==============================] - 6s 125ms/step - loss: 9.3261e-04\n",
            "Epoch 68/100\n",
            "48/48 [==============================] - 6s 128ms/step - loss: 0.0011\n",
            "Epoch 69/100\n",
            "48/48 [==============================] - 6s 124ms/step - loss: 8.3025e-04\n",
            "Epoch 70/100\n",
            "48/48 [==============================] - 6s 126ms/step - loss: 9.1901e-04\n",
            "Epoch 71/100\n",
            "48/48 [==============================] - 6s 123ms/step - loss: 9.4339e-04\n",
            "Epoch 72/100\n",
            "48/48 [==============================] - 6s 121ms/step - loss: 0.0011\n",
            "Epoch 73/100\n",
            "48/48 [==============================] - 6s 123ms/step - loss: 8.7008e-04\n",
            "Epoch 74/100\n",
            "48/48 [==============================] - 6s 124ms/step - loss: 9.6063e-04\n",
            "Epoch 75/100\n",
            "48/48 [==============================] - 6s 127ms/step - loss: 8.9906e-04\n",
            "Epoch 76/100\n",
            "48/48 [==============================] - 6s 126ms/step - loss: 7.9245e-04\n",
            "Epoch 77/100\n",
            "48/48 [==============================] - 6s 127ms/step - loss: 7.5553e-04\n",
            "Epoch 78/100\n",
            "48/48 [==============================] - 6s 126ms/step - loss: 8.7975e-04\n",
            "Epoch 79/100\n",
            "48/48 [==============================] - 6s 127ms/step - loss: 7.4761e-04\n",
            "Epoch 80/100\n",
            "48/48 [==============================] - 6s 124ms/step - loss: 8.0860e-04\n",
            "Epoch 81/100\n",
            "48/48 [==============================] - 6s 123ms/step - loss: 9.1843e-04\n",
            "Epoch 82/100\n",
            "48/48 [==============================] - 6s 125ms/step - loss: 8.2213e-04\n",
            "Epoch 83/100\n",
            "48/48 [==============================] - 6s 124ms/step - loss: 7.1735e-04\n",
            "Epoch 84/100\n",
            "48/48 [==============================] - 6s 124ms/step - loss: 7.1954e-04\n",
            "Epoch 85/100\n",
            "48/48 [==============================] - 6s 122ms/step - loss: 7.9368e-04\n",
            "Epoch 86/100\n",
            "48/48 [==============================] - 6s 124ms/step - loss: 8.1130e-04\n",
            "Epoch 87/100\n",
            "48/48 [==============================] - 6s 124ms/step - loss: 7.8455e-04\n",
            "Epoch 88/100\n",
            "48/48 [==============================] - 6s 126ms/step - loss: 7.3337e-04\n",
            "Epoch 89/100\n",
            "48/48 [==============================] - 6s 126ms/step - loss: 8.2268e-04\n",
            "Epoch 90/100\n",
            "48/48 [==============================] - 6s 125ms/step - loss: 9.6142e-04\n",
            "Epoch 91/100\n",
            "48/48 [==============================] - 6s 122ms/step - loss: 8.0151e-04\n",
            "Epoch 92/100\n",
            "48/48 [==============================] - 6s 122ms/step - loss: 7.3961e-04\n",
            "Epoch 93/100\n",
            "48/48 [==============================] - 6s 123ms/step - loss: 8.4408e-04\n",
            "Epoch 94/100\n",
            "48/48 [==============================] - 6s 123ms/step - loss: 8.7093e-04\n",
            "Epoch 95/100\n",
            "48/48 [==============================] - 6s 123ms/step - loss: 9.0652e-04\n",
            "Epoch 96/100\n",
            "48/48 [==============================] - 6s 123ms/step - loss: 7.1361e-04\n",
            "Epoch 97/100\n",
            "48/48 [==============================] - 6s 123ms/step - loss: 7.5120e-04\n",
            "Epoch 98/100\n",
            "48/48 [==============================] - 6s 125ms/step - loss: 7.1807e-04\n",
            "Epoch 99/100\n",
            "48/48 [==============================] - 6s 124ms/step - loss: 7.5414e-04\n",
            "Epoch 100/100\n",
            "48/48 [==============================] - 6s 126ms/step - loss: 8.7821e-04\n"
          ]
        },
        {
          "output_type": "execute_result",
          "data": {
            "text/plain": [
              "<keras.callbacks.History at 0x7f1b9f784390>"
            ]
          },
          "metadata": {},
          "execution_count": 40
        }
      ]
    },
    {
      "cell_type": "code",
      "source": [
        "auth.authenticate_user()\n",
        "gauth = GoogleAuth()\n",
        "gauth.credentials = GoogleCredentials.get_application_default()\n",
        "drive = GoogleDrive(gauth)"
      ],
      "metadata": {
        "id": "XKfcWkF3xn5r"
      },
      "execution_count": null,
      "outputs": []
    },
    {
      "cell_type": "code",
      "source": [
        "downloadeds = drive.CreateFile({'id':'1PIuyDjJk0nAu4FPGDaiXa3Yt1qhKGMFc'}) # replace the id with id of file you want to access\n",
        "downloadeds.GetContentFile('alfa.us.csv')\n"
      ],
      "metadata": {
        "id": "v71mcPalxn8i"
      },
      "execution_count": null,
      "outputs": []
    },
    {
      "cell_type": "code",
      "source": [
        "dt=pd.read_csv('google1.csv',index_col =\"Date\",parse_dates=True)\n",
        "real_price=dt.iloc[:,1:2].values\n",
        "real_price.len()"
      ],
      "metadata": {
        "id": "CyBFS30Oxn_X",
        "colab": {
          "base_uri": "https://localhost:8080/",
          "height": 200
        },
        "outputId": "902ebd38-e62c-46cf-a3b7-b7d1061ee3b9"
      },
      "execution_count": null,
      "outputs": [
        {
          "output_type": "error",
          "ename": "NameError",
          "evalue": "ignored",
          "traceback": [
            "\u001b[0;31m---------------------------------------------------------------------------\u001b[0m",
            "\u001b[0;31mNameError\u001b[0m                                 Traceback (most recent call last)",
            "\u001b[0;32m<ipython-input-2-491ad4bb69ba>\u001b[0m in \u001b[0;36m<module>\u001b[0;34m()\u001b[0m\n\u001b[0;32m----> 1\u001b[0;31m \u001b[0mdt\u001b[0m\u001b[0;34m=\u001b[0m\u001b[0mpd\u001b[0m\u001b[0;34m.\u001b[0m\u001b[0mread_csv\u001b[0m\u001b[0;34m(\u001b[0m\u001b[0;34m'alfa.us.csv'\u001b[0m\u001b[0;34m,\u001b[0m\u001b[0mindex_col\u001b[0m \u001b[0;34m=\u001b[0m\u001b[0;34m\"Date\"\u001b[0m\u001b[0;34m,\u001b[0m\u001b[0mparse_dates\u001b[0m\u001b[0;34m=\u001b[0m\u001b[0;32mTrue\u001b[0m\u001b[0;34m)\u001b[0m\u001b[0;34m\u001b[0m\u001b[0;34m\u001b[0m\u001b[0m\n\u001b[0m\u001b[1;32m      2\u001b[0m \u001b[0mreal_price\u001b[0m\u001b[0;34m=\u001b[0m\u001b[0mdt\u001b[0m\u001b[0;34m.\u001b[0m\u001b[0miloc\u001b[0m\u001b[0;34m[\u001b[0m\u001b[0;34m:\u001b[0m\u001b[0;34m,\u001b[0m\u001b[0;36m1\u001b[0m\u001b[0;34m:\u001b[0m\u001b[0;36m2\u001b[0m\u001b[0;34m]\u001b[0m\u001b[0;34m.\u001b[0m\u001b[0mvalues\u001b[0m\u001b[0;34m\u001b[0m\u001b[0;34m\u001b[0m\u001b[0m\n\u001b[1;32m      3\u001b[0m \u001b[0mreal_price\u001b[0m\u001b[0;34m.\u001b[0m\u001b[0mlen\u001b[0m\u001b[0;34m(\u001b[0m\u001b[0;34m)\u001b[0m\u001b[0;34m\u001b[0m\u001b[0;34m\u001b[0m\u001b[0m\n",
            "\u001b[0;31mNameError\u001b[0m: name 'pd' is not defined"
          ]
        }
      ]
    },
    {
      "cell_type": "code",
      "source": [
        "dt.info()"
      ],
      "metadata": {
        "id": "qQJxiWkPxoC0",
        "colab": {
          "base_uri": "https://localhost:8080/"
        },
        "outputId": "751e8303-85ba-487a-ae22-f7e4f04993b8"
      },
      "execution_count": null,
      "outputs": [
        {
          "output_type": "stream",
          "name": "stdout",
          "text": [
            "<class 'pandas.core.frame.DataFrame'>\n",
            "DatetimeIndex: 1353 entries, 2012-06-05 to 2017-11-10\n",
            "Data columns (total 6 columns):\n",
            " #   Column   Non-Null Count  Dtype  \n",
            "---  ------   --------------  -----  \n",
            " 0   Open     1353 non-null   float64\n",
            " 1   High     1353 non-null   float64\n",
            " 2   Low      1353 non-null   float64\n",
            " 3   Close    1353 non-null   float64\n",
            " 4   Volume   1353 non-null   int64  \n",
            " 5   OpenInt  1353 non-null   int64  \n",
            "dtypes: float64(4), int64(2)\n",
            "memory usage: 74.0 KB\n"
          ]
        }
      ]
    },
    {
      "cell_type": "code",
      "source": [
        "dt[\"Volume\"]=dt[\"Volume\"].astype(float)"
      ],
      "metadata": {
        "id": "zHRIKQyN5pip"
      },
      "execution_count": null,
      "outputs": []
    },
    {
      "cell_type": "code",
      "source": [
        "dt.drop(\"OpenInt\",axis=1,inplace=True)"
      ],
      "metadata": {
        "id": "CfKdVdhW5plS"
      },
      "execution_count": null,
      "outputs": []
    },
    {
      "cell_type": "code",
      "source": [
        "test=dt['Open']\n",
        "test=pd.DataFrame(test)\n",
        "test.info()"
      ],
      "metadata": {
        "colab": {
          "base_uri": "https://localhost:8080/"
        },
        "id": "9xyjR-KJ5pn8",
        "outputId": "ddb1623b-1cdd-48fb-de73-8a7023bc4ca9"
      },
      "execution_count": null,
      "outputs": [
        {
          "output_type": "stream",
          "name": "stdout",
          "text": [
            "<class 'pandas.core.frame.DataFrame'>\n",
            "DatetimeIndex: 1353 entries, 2012-06-05 to 2017-11-10\n",
            "Data columns (total 1 columns):\n",
            " #   Column  Non-Null Count  Dtype  \n",
            "---  ------  --------------  -----  \n",
            " 0   Open    1353 non-null   float64\n",
            "dtypes: float64(1)\n",
            "memory usage: 53.4 KB\n"
          ]
        }
      ]
    },
    {
      "cell_type": "code",
      "source": [
        "dataset_total =pd.concat((dataset['Open'],dt['Open']),axis=0)\n",
        "inputs =dataset_total[len(dataset_total)-len(dt)-60:].values\n",
        "inputs=inputs.reshape(-1,1)\n",
        "inputs=sc.transform(inputs)\n",
        "X_test=[]\n",
        "for i in range(60,1353):\n",
        "\tX_test.append(inputs[i-60:i,0])\n",
        "X_test =np.array(X_test)\n",
        "X_test = np.reshape(X_test,(X_test.shape[0],X_test.shape[1],1))\n",
        "predicted =regessor(X_test)\n",
        "predicted=sc.inverse_transform(predicted)"
      ],
      "metadata": {
        "colab": {
          "base_uri": "https://localhost:8080/"
        },
        "id": "qLaNSy3d5pqt",
        "outputId": "103ebecd-b47e-42c1-ab04-064268158137"
      },
      "execution_count": null,
      "outputs": [
        {
          "output_type": "stream",
          "name": "stderr",
          "text": [
            "/usr/local/lib/python3.7/dist-packages/sklearn/base.py:451: UserWarning: X does not have valid feature names, but MinMaxScaler was fitted with feature names\n",
            "  \"X does not have valid feature names, but\"\n"
          ]
        }
      ]
    },
    {
      "cell_type": "code",
      "source": [
        "predicted=pd.DataFrame(predicted)\n",
        "predicted.info()"
      ],
      "metadata": {
        "colab": {
          "base_uri": "https://localhost:8080/"
        },
        "id": "_TKA8MWW5ptz",
        "outputId": "e302c4bc-d808-42ca-bee0-423202ff1a1f"
      },
      "execution_count": null,
      "outputs": [
        {
          "output_type": "stream",
          "name": "stdout",
          "text": [
            "<class 'pandas.core.frame.DataFrame'>\n",
            "RangeIndex: 1293 entries, 0 to 1292\n",
            "Data columns (total 1 columns):\n",
            " #   Column  Non-Null Count  Dtype  \n",
            "---  ------  --------------  -----  \n",
            " 0   0       1293 non-null   float64\n",
            "dtypes: float64(1)\n",
            "memory usage: 10.2 KB\n"
          ]
        }
      ]
    },
    {
      "cell_type": "code",
      "source": [
        "plt.plot(real_price,color='red',label='real')\n",
        "plt.plot(predicted,color='blue',label='predicted')\n",
        "plt.title('stock prediction')\n",
        "plt.legend()\n",
        "plt.show()"
      ],
      "metadata": {
        "colab": {
          "base_uri": "https://localhost:8080/",
          "height": 281
        },
        "id": "W9abxqTc5pwo",
        "outputId": "7c30a4a5-8301-41a7-9931-37f6afa61fc8"
      },
      "execution_count": null,
      "outputs": [
        {
          "output_type": "display_data",
          "data": {
            "text/plain": [
              "<Figure size 432x288 with 1 Axes>"
            ],
            "image/png": "[encoded data removed]"
          },
          "metadata": {
            "needs_background": "light"
          }
        }
      ]
    },
    {
      "cell_type": "code",
      "source": [],
      "metadata": {
        "id": "6hW9a-H35pzU"
      },
      "execution_count": null,
      "outputs": []
    },
    {
      "cell_type": "code",
      "source": [],
      "metadata": {
        "id": "K6Ar6jJVGHWR"
      },
      "execution_count": null,
      "outputs": []
    },
    {
      "cell_type": "code",
      "source": [],
      "metadata": {
        "id": "xbpPwVE5GH0l"
      },
      "execution_count": null,
      "outputs": []
    },
    {
      "cell_type": "code",
      "source": [],
      "metadata": {
        "id": "Y9ynxJaj5p2K"
      },
      "execution_count": null,
      "outputs": []
    },
    {
      "cell_type": "code",
      "source": [],
      "metadata": {
        "id": "mDEBJ-dT5p5j"
      },
      "execution_count": null,
      "outputs": []
    }
  ]
}